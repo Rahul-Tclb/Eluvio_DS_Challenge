{
  "nbformat": 4,
  "nbformat_minor": 0,
  "metadata": {
    "colab": {
      "name": "Eluvio.ipynb",
      "provenance": [],
      "collapsed_sections": [],
      "toc_visible": true,
      "mount_file_id": "1RpgO1KhhpPZvmYpAy8hs0MVDul07onl0",
      "authorship_tag": "ABX9TyP0dtTsEfM5z2PTA0m/LKM/",
      "include_colab_link": true
    },
    "kernelspec": {
      "display_name": "Python 3",
      "name": "python3"
    },
    "language_info": {
      "name": "python"
    }
  },
  "cells": [
    {
      "cell_type": "markdown",
      "metadata": {
        "id": "view-in-github",
        "colab_type": "text"
      },
      "source": [
        "<a href=\"https://colab.research.google.com/github/Rahul-Tclb/Eluvio_DS_Challenge/blob/main/Eluvio.ipynb\" target=\"_parent\"><img src=\"https://colab.research.google.com/assets/colab-badge.svg\" alt=\"Open In Colab\"/></a>"
      ]
    },
    {
      "cell_type": "markdown",
      "metadata": {
        "id": "wuHM2zNcTcNu"
      },
      "source": [
        "# Predicting the Sentiment of News Titles using Logistic Regression Model"
      ]
    },
    {
      "cell_type": "markdown",
      "metadata": {
        "id": "6Zn9ew625zyW"
      },
      "source": [
        "\n",
        "\n",
        "### Importing Data Manipulation , Numerical and Visulization and Dependencies  "
      ]
    },
    {
      "cell_type": "code",
      "metadata": {
        "colab": {
          "base_uri": "https://localhost:8080/"
        },
        "id": "ul0J1btq75gw",
        "outputId": "e8772aa4-b9ba-4e9a-8728-404ed3a1f0eb"
      },
      "source": [
        "import pandas as pd\n",
        "import numpy as np\n",
        "import math\n",
        "import matplotlib.pyplot as plt\n",
        "import seaborn as sns\n",
        "import nltk  \n",
        "nltk.download('stopwords')\n",
        "import re  \n",
        "import string\n",
        "from nltk.corpus import stopwords\n",
        "from nltk.stem import PorterStemmer\n",
        "from nltk.tokenize import TweetTokenizer\n",
        "# import warnings\n",
        "# warnings.filterwarnings(\"ignore\")"
      ],
      "execution_count": 1,
      "outputs": [
        {
          "output_type": "stream",
          "text": [
            "[nltk_data] Downloading package stopwords to /root/nltk_data...\n",
            "[nltk_data]   Package stopwords is already up-to-date!\n"
          ],
          "name": "stdout"
        }
      ]
    },
    {
      "cell_type": "markdown",
      "metadata": {
        "id": "e718rX8e6J04"
      },
      "source": [
        "#### Reading Dataset from Drive Link"
      ]
    },
    {
      "cell_type": "code",
      "metadata": {
        "id": "MyhLFNgO8e3t"
      },
      "source": [
        "Dataset = pd.read_csv(\"./drive/MyDrive/csv/Eluvio_DS_Challenge.csv\")"
      ],
      "execution_count": 2,
      "outputs": []
    },
    {
      "cell_type": "markdown",
      "metadata": {
        "id": "E6ivQ0Q46QD0"
      },
      "source": [
        "### Copy Entire Dataset to local variable called df"
      ]
    },
    {
      "cell_type": "code",
      "metadata": {
        "id": "35FOLpKU8gJs"
      },
      "source": [
        "df = Dataset.copy()"
      ],
      "execution_count": 3,
      "outputs": []
    },
    {
      "cell_type": "markdown",
      "metadata": {
        "id": "WRIgc2CA6XBe"
      },
      "source": [
        "### Overview of Unstructered Data"
      ]
    },
    {
      "cell_type": "code",
      "metadata": {
        "colab": {
          "base_uri": "https://localhost:8080/",
          "height": 335
        },
        "id": "y6D8tV0O-ms_",
        "outputId": "cf4ef909-2e8c-45c7-90cb-d34552a6ef0e"
      },
      "source": [
        "df.head(10)"
      ],
      "execution_count": 4,
      "outputs": [
        {
          "output_type": "execute_result",
          "data": {
            "text/html": [
              "<div>\n",
              "<style scoped>\n",
              "    .dataframe tbody tr th:only-of-type {\n",
              "        vertical-align: middle;\n",
              "    }\n",
              "\n",
              "    .dataframe tbody tr th {\n",
              "        vertical-align: top;\n",
              "    }\n",
              "\n",
              "    .dataframe thead th {\n",
              "        text-align: right;\n",
              "    }\n",
              "</style>\n",
              "<table border=\"1\" class=\"dataframe\">\n",
              "  <thead>\n",
              "    <tr style=\"text-align: right;\">\n",
              "      <th></th>\n",
              "      <th>time_created</th>\n",
              "      <th>date_created</th>\n",
              "      <th>up_votes</th>\n",
              "      <th>down_votes</th>\n",
              "      <th>title</th>\n",
              "      <th>over_18</th>\n",
              "      <th>author</th>\n",
              "      <th>category</th>\n",
              "    </tr>\n",
              "  </thead>\n",
              "  <tbody>\n",
              "    <tr>\n",
              "      <th>0</th>\n",
              "      <td>1201232046</td>\n",
              "      <td>2008-01-25</td>\n",
              "      <td>3</td>\n",
              "      <td>0</td>\n",
              "      <td>Scores killed in Pakistan clashes</td>\n",
              "      <td>False</td>\n",
              "      <td>polar</td>\n",
              "      <td>worldnews</td>\n",
              "    </tr>\n",
              "    <tr>\n",
              "      <th>1</th>\n",
              "      <td>1201232075</td>\n",
              "      <td>2008-01-25</td>\n",
              "      <td>2</td>\n",
              "      <td>0</td>\n",
              "      <td>Japan resumes refuelling mission</td>\n",
              "      <td>False</td>\n",
              "      <td>polar</td>\n",
              "      <td>worldnews</td>\n",
              "    </tr>\n",
              "    <tr>\n",
              "      <th>2</th>\n",
              "      <td>1201232523</td>\n",
              "      <td>2008-01-25</td>\n",
              "      <td>3</td>\n",
              "      <td>0</td>\n",
              "      <td>US presses Egypt on Gaza border</td>\n",
              "      <td>False</td>\n",
              "      <td>polar</td>\n",
              "      <td>worldnews</td>\n",
              "    </tr>\n",
              "    <tr>\n",
              "      <th>3</th>\n",
              "      <td>1201233290</td>\n",
              "      <td>2008-01-25</td>\n",
              "      <td>1</td>\n",
              "      <td>0</td>\n",
              "      <td>Jump-start economy: Give health care to all</td>\n",
              "      <td>False</td>\n",
              "      <td>fadi420</td>\n",
              "      <td>worldnews</td>\n",
              "    </tr>\n",
              "    <tr>\n",
              "      <th>4</th>\n",
              "      <td>1201274720</td>\n",
              "      <td>2008-01-25</td>\n",
              "      <td>4</td>\n",
              "      <td>0</td>\n",
              "      <td>Council of Europe bashes EU&amp;UN terror blacklist</td>\n",
              "      <td>False</td>\n",
              "      <td>mhermans</td>\n",
              "      <td>worldnews</td>\n",
              "    </tr>\n",
              "    <tr>\n",
              "      <th>5</th>\n",
              "      <td>1201287889</td>\n",
              "      <td>2008-01-25</td>\n",
              "      <td>15</td>\n",
              "      <td>0</td>\n",
              "      <td>Hay presto! Farmer unveils the  illegal  mock-...</td>\n",
              "      <td>False</td>\n",
              "      <td>Armagedonovich</td>\n",
              "      <td>worldnews</td>\n",
              "    </tr>\n",
              "    <tr>\n",
              "      <th>6</th>\n",
              "      <td>1201289438</td>\n",
              "      <td>2008-01-25</td>\n",
              "      <td>5</td>\n",
              "      <td>0</td>\n",
              "      <td>Strikes, Protests and Gridlock at the Poland-U...</td>\n",
              "      <td>False</td>\n",
              "      <td>Clythos</td>\n",
              "      <td>worldnews</td>\n",
              "    </tr>\n",
              "    <tr>\n",
              "      <th>7</th>\n",
              "      <td>1201536662</td>\n",
              "      <td>2008-01-28</td>\n",
              "      <td>0</td>\n",
              "      <td>0</td>\n",
              "      <td>The U.N. Mismanagement Program</td>\n",
              "      <td>False</td>\n",
              "      <td>Moldavite</td>\n",
              "      <td>worldnews</td>\n",
              "    </tr>\n",
              "    <tr>\n",
              "      <th>8</th>\n",
              "      <td>1201558396</td>\n",
              "      <td>2008-01-28</td>\n",
              "      <td>4</td>\n",
              "      <td>0</td>\n",
              "      <td>Nicolas Sarkozy threatens to sue Ryanair</td>\n",
              "      <td>False</td>\n",
              "      <td>Moldavite</td>\n",
              "      <td>worldnews</td>\n",
              "    </tr>\n",
              "    <tr>\n",
              "      <th>9</th>\n",
              "      <td>1201635869</td>\n",
              "      <td>2008-01-29</td>\n",
              "      <td>3</td>\n",
              "      <td>0</td>\n",
              "      <td>US plans for missile shields in Polish town me...</td>\n",
              "      <td>False</td>\n",
              "      <td>JoeyRamone63</td>\n",
              "      <td>worldnews</td>\n",
              "    </tr>\n",
              "  </tbody>\n",
              "</table>\n",
              "</div>"
            ],
            "text/plain": [
              "   time_created date_created  up_votes  ...  over_18          author   category\n",
              "0    1201232046   2008-01-25         3  ...    False           polar  worldnews\n",
              "1    1201232075   2008-01-25         2  ...    False           polar  worldnews\n",
              "2    1201232523   2008-01-25         3  ...    False           polar  worldnews\n",
              "3    1201233290   2008-01-25         1  ...    False         fadi420  worldnews\n",
              "4    1201274720   2008-01-25         4  ...    False        mhermans  worldnews\n",
              "5    1201287889   2008-01-25        15  ...    False  Armagedonovich  worldnews\n",
              "6    1201289438   2008-01-25         5  ...    False         Clythos  worldnews\n",
              "7    1201536662   2008-01-28         0  ...    False       Moldavite  worldnews\n",
              "8    1201558396   2008-01-28         4  ...    False       Moldavite  worldnews\n",
              "9    1201635869   2008-01-29         3  ...    False    JoeyRamone63  worldnews\n",
              "\n",
              "[10 rows x 8 columns]"
            ]
          },
          "metadata": {
            "tags": []
          },
          "execution_count": 4
        }
      ]
    },
    {
      "cell_type": "code",
      "metadata": {
        "colab": {
          "base_uri": "https://localhost:8080/"
        },
        "id": "VAonL2ME-qxu",
        "outputId": "d1d4625e-3a09-4172-9af7-16337660a0c6"
      },
      "source": [
        "df.info()"
      ],
      "execution_count": 5,
      "outputs": [
        {
          "output_type": "stream",
          "text": [
            "<class 'pandas.core.frame.DataFrame'>\n",
            "RangeIndex: 509236 entries, 0 to 509235\n",
            "Data columns (total 8 columns):\n",
            " #   Column        Non-Null Count   Dtype \n",
            "---  ------        --------------   ----- \n",
            " 0   time_created  509236 non-null  int64 \n",
            " 1   date_created  509236 non-null  object\n",
            " 2   up_votes      509236 non-null  int64 \n",
            " 3   down_votes    509236 non-null  int64 \n",
            " 4   title         509236 non-null  object\n",
            " 5   over_18       509236 non-null  bool  \n",
            " 6   author        509236 non-null  object\n",
            " 7   category      509236 non-null  object\n",
            "dtypes: bool(1), int64(3), object(4)\n",
            "memory usage: 27.7+ MB\n"
          ],
          "name": "stdout"
        }
      ]
    },
    {
      "cell_type": "markdown",
      "metadata": {
        "id": "4aNcKKj46gNn"
      },
      "source": [
        "### Subsetting two Columns for which i will be working  "
      ]
    },
    {
      "cell_type": "code",
      "metadata": {
        "id": "QchjVpMpl2H9"
      },
      "source": [
        "columns = ['up_votes', 'title']\n",
        "df1 = df[columns]"
      ],
      "execution_count": 6,
      "outputs": []
    },
    {
      "cell_type": "markdown",
      "metadata": {
        "id": "wfW8cmy06p6I"
      },
      "source": [
        "### Performing Feature Engineering and Derived a new Column called Label\n",
        "\n",
        "*   I considered All the titles having less than or equal tp  4 upvotes as negative labels\n",
        "*   I considered All the titles having more than 4 upvotes as positive labels\n",
        "\n"
      ]
    },
    {
      "cell_type": "code",
      "metadata": {
        "id": "HU7NQqnRNBhD",
        "colab": {
          "base_uri": "https://localhost:8080/"
        },
        "outputId": "91fae6cc-3c85-4812-e265-1aa52f73eba5"
      },
      "source": [
        "df1['Label']  = df1['up_votes'].apply(lambda x: 0 if x <= 4 else 1)"
      ],
      "execution_count": 7,
      "outputs": [
        {
          "output_type": "stream",
          "text": [
            "/usr/local/lib/python3.7/dist-packages/ipykernel_launcher.py:1: SettingWithCopyWarning: \n",
            "A value is trying to be set on a copy of a slice from a DataFrame.\n",
            "Try using .loc[row_indexer,col_indexer] = value instead\n",
            "\n",
            "See the caveats in the documentation: https://pandas.pydata.org/pandas-docs/stable/user_guide/indexing.html#returning-a-view-versus-a-copy\n",
            "  \"\"\"Entry point for launching an IPython kernel.\n"
          ],
          "name": "stderr"
        }
      ]
    },
    {
      "cell_type": "markdown",
      "metadata": {
        "id": "8oVZ4Sdh7UGf"
      },
      "source": [
        "### Reindexing the Columns and View first and last few records"
      ]
    },
    {
      "cell_type": "code",
      "metadata": {
        "id": "pvwM7TwOUbcO"
      },
      "source": [
        "df1 = df1.reindex(columns = ['title' , 'up_votes' , 'Label'] )"
      ],
      "execution_count": 8,
      "outputs": []
    },
    {
      "cell_type": "code",
      "metadata": {
        "colab": {
          "base_uri": "https://localhost:8080/",
          "height": 191
        },
        "id": "dmY2uX0e7hdH",
        "outputId": "19a41ffb-89f9-4ca1-97d8-f31a88459ca6"
      },
      "source": [
        "df1.head(5)"
      ],
      "execution_count": 9,
      "outputs": [
        {
          "output_type": "execute_result",
          "data": {
            "text/html": [
              "<div>\n",
              "<style scoped>\n",
              "    .dataframe tbody tr th:only-of-type {\n",
              "        vertical-align: middle;\n",
              "    }\n",
              "\n",
              "    .dataframe tbody tr th {\n",
              "        vertical-align: top;\n",
              "    }\n",
              "\n",
              "    .dataframe thead th {\n",
              "        text-align: right;\n",
              "    }\n",
              "</style>\n",
              "<table border=\"1\" class=\"dataframe\">\n",
              "  <thead>\n",
              "    <tr style=\"text-align: right;\">\n",
              "      <th></th>\n",
              "      <th>title</th>\n",
              "      <th>up_votes</th>\n",
              "      <th>Label</th>\n",
              "    </tr>\n",
              "  </thead>\n",
              "  <tbody>\n",
              "    <tr>\n",
              "      <th>0</th>\n",
              "      <td>Scores killed in Pakistan clashes</td>\n",
              "      <td>3</td>\n",
              "      <td>0</td>\n",
              "    </tr>\n",
              "    <tr>\n",
              "      <th>1</th>\n",
              "      <td>Japan resumes refuelling mission</td>\n",
              "      <td>2</td>\n",
              "      <td>0</td>\n",
              "    </tr>\n",
              "    <tr>\n",
              "      <th>2</th>\n",
              "      <td>US presses Egypt on Gaza border</td>\n",
              "      <td>3</td>\n",
              "      <td>0</td>\n",
              "    </tr>\n",
              "    <tr>\n",
              "      <th>3</th>\n",
              "      <td>Jump-start economy: Give health care to all</td>\n",
              "      <td>1</td>\n",
              "      <td>0</td>\n",
              "    </tr>\n",
              "    <tr>\n",
              "      <th>4</th>\n",
              "      <td>Council of Europe bashes EU&amp;UN terror blacklist</td>\n",
              "      <td>4</td>\n",
              "      <td>0</td>\n",
              "    </tr>\n",
              "  </tbody>\n",
              "</table>\n",
              "</div>"
            ],
            "text/plain": [
              "                                             title  up_votes  Label\n",
              "0                Scores killed in Pakistan clashes         3      0\n",
              "1                 Japan resumes refuelling mission         2      0\n",
              "2                  US presses Egypt on Gaza border         3      0\n",
              "3     Jump-start economy: Give health care to all          1      0\n",
              "4  Council of Europe bashes EU&UN terror blacklist         4      0"
            ]
          },
          "metadata": {
            "tags": []
          },
          "execution_count": 9
        }
      ]
    },
    {
      "cell_type": "code",
      "metadata": {
        "colab": {
          "base_uri": "https://localhost:8080/",
          "height": 191
        },
        "id": "e9HBC1D27ma1",
        "outputId": "9981ccc7-873a-483f-b445-cf52623da94d"
      },
      "source": [
        "df1.tail()"
      ],
      "execution_count": 10,
      "outputs": [
        {
          "output_type": "execute_result",
          "data": {
            "text/html": [
              "<div>\n",
              "<style scoped>\n",
              "    .dataframe tbody tr th:only-of-type {\n",
              "        vertical-align: middle;\n",
              "    }\n",
              "\n",
              "    .dataframe tbody tr th {\n",
              "        vertical-align: top;\n",
              "    }\n",
              "\n",
              "    .dataframe thead th {\n",
              "        text-align: right;\n",
              "    }\n",
              "</style>\n",
              "<table border=\"1\" class=\"dataframe\">\n",
              "  <thead>\n",
              "    <tr style=\"text-align: right;\">\n",
              "      <th></th>\n",
              "      <th>title</th>\n",
              "      <th>up_votes</th>\n",
              "      <th>Label</th>\n",
              "    </tr>\n",
              "  </thead>\n",
              "  <tbody>\n",
              "    <tr>\n",
              "      <th>509231</th>\n",
              "      <td>Heil Trump : Donald Trump s  alt-right  white...</td>\n",
              "      <td>5</td>\n",
              "      <td>1</td>\n",
              "    </tr>\n",
              "    <tr>\n",
              "      <th>509232</th>\n",
              "      <td>There are people speculating that this could b...</td>\n",
              "      <td>1</td>\n",
              "      <td>0</td>\n",
              "    </tr>\n",
              "    <tr>\n",
              "      <th>509233</th>\n",
              "      <td>Professor receives Arab Researchers Award</td>\n",
              "      <td>1</td>\n",
              "      <td>0</td>\n",
              "    </tr>\n",
              "    <tr>\n",
              "      <th>509234</th>\n",
              "      <td>Nigel Farage attacks response to Trump ambassa...</td>\n",
              "      <td>1</td>\n",
              "      <td>0</td>\n",
              "    </tr>\n",
              "    <tr>\n",
              "      <th>509235</th>\n",
              "      <td>Palestinian wielding knife shot dead in West B...</td>\n",
              "      <td>1</td>\n",
              "      <td>0</td>\n",
              "    </tr>\n",
              "  </tbody>\n",
              "</table>\n",
              "</div>"
            ],
            "text/plain": [
              "                                                    title  up_votes  Label\n",
              "509231   Heil Trump : Donald Trump s  alt-right  white...         5      1\n",
              "509232  There are people speculating that this could b...         1      0\n",
              "509233          Professor receives Arab Researchers Award         1      0\n",
              "509234  Nigel Farage attacks response to Trump ambassa...         1      0\n",
              "509235  Palestinian wielding knife shot dead in West B...         1      0"
            ]
          },
          "metadata": {
            "tags": []
          },
          "execution_count": 10
        }
      ]
    },
    {
      "cell_type": "markdown",
      "metadata": {
        "id": "N9yvMwKr7xWL"
      },
      "source": [
        "### creating two new Dataframes containing Positive and Negative titles \n",
        "\n",
        "*   The positive_title consists of all positive labels with respective news titles\n",
        "*   The negative_title consists of all negative labels with respective news titles\n",
        "\n"
      ]
    },
    {
      "cell_type": "code",
      "metadata": {
        "id": "aq0d1tQmNX5p"
      },
      "source": [
        "positive_title = df1[df1['Label'] == 1].reset_index().drop('index' , axis = 1)\n",
        "negative_title = df1[df1['Label'] == 0].reset_index().drop('index' , axis = 1)"
      ],
      "execution_count": 11,
      "outputs": []
    },
    {
      "cell_type": "markdown",
      "metadata": {
        "id": "s230U7nX8hc0"
      },
      "source": [
        "### plotting a Pie chart to see the proportion of Positive and Negative labels"
      ]
    },
    {
      "cell_type": "code",
      "metadata": {
        "colab": {
          "base_uri": "https://localhost:8080/",
          "height": 575
        },
        "id": "YlTtYkBHbpi5",
        "outputId": "df1e65dd-aa80-403f-c5fb-a737c8f0f97d"
      },
      "source": [
        "fig = plt.figure(figsize=(10, 10))\n",
        "labels = 'Positives', 'Negative'\n",
        "sizes = [positive_title.shape[0] ,  negative_title.shape[0]] \n",
        "plt.pie(sizes, labels=labels, autopct='%1.1f%%',shadow=True, startangle=90)\n",
        "plt.axis('equal') \n",
        "plt.show()"
      ],
      "execution_count": 12,
      "outputs": [
        {
          "output_type": "display_data",
          "data": {
            "image/png": "[encoded data removed]",
            "text/plain": [
              "<Figure size 720x720 with 1 Axes>"
            ]
          },
          "metadata": {
            "tags": []
          }
        }
      ]
    },
    {
      "cell_type": "markdown",
      "metadata": {
        "id": "TQdWuwle87p9"
      },
      "source": [
        "### Pre-Processing the Un-Structured Data "
      ]
    },
    {
      "cell_type": "markdown",
      "metadata": {
        "id": "GwWAL6YU9E7-"
      },
      "source": [
        "#### for the sake of undetstanding I am going to take one specific title and lets print the content and what see what are the vocabalary inside it"
      ]
    },
    {
      "cell_type": "code",
      "metadata": {
        "colab": {
          "base_uri": "https://localhost:8080/",
          "height": 35
        },
        "id": "aYa3pFQKd8UW",
        "outputId": "2f4cfa4b-d04a-4ae4-8d13-ef29cf383ede"
      },
      "source": [
        "title0 = positive_title['title'][0]\n",
        "title0"
      ],
      "execution_count": 13,
      "outputs": [
        {
          "output_type": "execute_result",
          "data": {
            "application/vnd.google.colaboratory.intrinsic+json": {
              "type": "string"
            },
            "text/plain": [
              "'Hay presto! Farmer unveils the  illegal  mock-Tudor castle he tried to hide behind 40ft hay bales'"
            ]
          },
          "metadata": {
            "tags": []
          },
          "execution_count": 13
        }
      ]
    },
    {
      "cell_type": "markdown",
      "metadata": {
        "id": "rLJUm-r-9qVg"
      },
      "source": [
        "#### Removing styles , hyperlinks , hashtags from all the titles and  sure to \n",
        "\n",
        "*   unfortunately for the specific example we do not have them but we will makeremove from all of the titles\n",
        "\n",
        "*   Lets print after removing all of those and see how it looks like\n",
        "\n",
        "\n",
        "\n"
      ]
    },
    {
      "cell_type": "code",
      "metadata": {
        "colab": {
          "base_uri": "https://localhost:8080/"
        },
        "id": "MI03gUzsgGiL",
        "outputId": "b0bb7eb4-aff2-4809-bb4a-2be5eb0159d1"
      },
      "source": [
        "\n",
        "# remove old style retweet text \"RT\"\n",
        "title0 = re.sub(r'^RT[\\s]+', '', title0)\n",
        "\n",
        "# remove hyperlinks\n",
        "title0 = re.sub(r'https?:\\/\\/.*[\\r\\n]*', '', title0)\n",
        "\n",
        "# remove hashtags\n",
        "# only removing the hash # sign from the word\n",
        "title0 = re.sub(r'#', '', title0)\n",
        "\n",
        "print(title0)"
      ],
      "execution_count": 14,
      "outputs": [
        {
          "output_type": "stream",
          "text": [
            "Hay presto! Farmer unveils the  illegal  mock-Tudor castle he tried to hide behind 40ft hay bales\n"
          ],
          "name": "stdout"
        }
      ]
    },
    {
      "cell_type": "markdown",
      "metadata": {
        "id": "GqT6zZry-m4_"
      },
      "source": [
        "#### Tokenization is the process of splitting a string into a list of tokens\n",
        "\n",
        "\n",
        "*   Using TweetTokenizer I am going to split the titles into a list of string tokens\n",
        "*   Lets apply TweetTokenizer to the above output and see how the Tokenized string looks like \n",
        "\n",
        "\n",
        "\n"
      ]
    },
    {
      "cell_type": "code",
      "metadata": {
        "colab": {
          "base_uri": "https://localhost:8080/"
        },
        "id": "LLyiEo3CcSMt",
        "outputId": "a1b36ca5-19e2-4de3-a8c3-4de99d6b180c"
      },
      "source": [
        "title1 = title0\n",
        "\n",
        "tokenizer = TweetTokenizer(preserve_case=False, strip_handles=True,  reduce_len=True)       # creating am object from class Tweet\n",
        "title_tokens = tokenizer.tokenize(title1)                                                   # toekenizing for the title1  \n",
        "\n",
        "print('Tokenized string:')\n",
        "print(title_tokens)"
      ],
      "execution_count": 15,
      "outputs": [
        {
          "output_type": "stream",
          "text": [
            "Tokenized string:\n",
            "['hay', 'presto', '!', 'farmer', 'unveils', 'the', 'illegal', 'mock-tudor', 'castle', 'he', 'tried', 'to', 'hide', 'behind', '40ft', 'hay', 'bales']\n"
          ],
          "name": "stdout"
        }
      ]
    },
    {
      "cell_type": "markdown",
      "metadata": {
        "id": "Kq_6EzY8_kcu"
      },
      "source": [
        "#### Stopwords are the most common words in any natural language. For the purpose of analyzing text data and building NLP models, these stopwords might not add much value to the meaning of the document.\n",
        "\n",
        "*  Generally, the most common words used in a text are “the”, “is”, “in”, “for”, “where”, “when”, “to”, “at” etc."
      ]
    },
    {
      "cell_type": "code",
      "metadata": {
        "colab": {
          "base_uri": "https://localhost:8080/"
        },
        "id": "Cxm-GbCreZ1B",
        "outputId": "0eb0cc8f-be93-4029-92db-476f4717c0ec"
      },
      "source": [
        "stopwords_english = stopwords.words('english')                                              # creating an Object of Stopwords_engilish from NLTK         \n",
        "\n",
        "title_clean = []                                                                            # initilizing an Empty list to append the processed words\n",
        "\n",
        "for word in title_tokens:                                                                   # using for Loop and running it through every word in tokenized string and \n",
        "    if (word not in stopwords_english and                                                   # removing the stopwords and then    \n",
        "        word not in string.punctuation):                                                    # removeing punctuation\n",
        "        title_clean.append(word)\n",
        "\n",
        "print('removed stop words and punctuation:')\n",
        "print(title_clean)                                                                           "
      ],
      "execution_count": 16,
      "outputs": [
        {
          "output_type": "stream",
          "text": [
            "removed stop words and punctuation:\n",
            "['hay', 'presto', 'farmer', 'unveils', 'illegal', 'mock-tudor', 'castle', 'tried', 'hide', 'behind', '40ft', 'hay', 'bales']\n"
          ],
          "name": "stdout"
        }
      ]
    },
    {
      "cell_type": "markdown",
      "metadata": {
        "id": "Um0hlea_CE_B"
      },
      "source": [
        "##### Let’s first understand stemming:\n",
        "\n",
        "* Stemming is a text normalization technique that cuts off the end or beginning of a word by taking into account a list of common prefixes or suffixes that could be found in that word\n",
        "* It is a rudimentary rule-based process of stripping the suffixes (“ing”, “ly”, “es”, “s” etc) from a word"
      ]
    },
    {
      "cell_type": "code",
      "metadata": {
        "colab": {
          "base_uri": "https://localhost:8080/"
        },
        "id": "D5vdRQQCfvnr",
        "outputId": "91493fb8-b28b-433f-cdea-6a00a26dacfb"
      },
      "source": [
        "stemmer = PorterStemmer()                                                                  # Instantiate stemming class\n",
        "\n",
        "title_stem = []                                                                            # Create an empty list to store the stems\n",
        "\n",
        "for word in title_clean:                                                                   # Running a for loop after removing stopwords into title_clean and\n",
        "    stem_word = stemmer.stem(word)                                                         # stemming word i.e taking back to it root form or base form and\n",
        "    title_stem.append(stem_word)                                                           # append to the list title_stem\n",
        "\n",
        "print('stemmed words:')\n",
        "print(title_stem)"
      ],
      "execution_count": 17,
      "outputs": [
        {
          "output_type": "stream",
          "text": [
            "stemmed words:\n",
            "['hay', 'presto', 'farmer', 'unveil', 'illeg', 'mock-tudor', 'castl', 'tri', 'hide', 'behind', '40ft', 'hay', 'bale']\n"
          ],
          "name": "stdout"
        }
      ]
    },
    {
      "cell_type": "markdown",
      "metadata": {
        "id": "SjbnKP6PDBs2"
      },
      "source": [
        "### By combining All the Above Pre-Processing steps ans Making Everything Included in one function called Process_tweet(title)"
      ]
    },
    {
      "cell_type": "code",
      "metadata": {
        "id": "E3wZNhtgg9ye"
      },
      "source": [
        "def process_tweet(title):\n",
        "  \"\"\"\n",
        "  Process tweet function.\n",
        "    Input:\n",
        "        tweet: a string containing a tweet\n",
        "    Output:\n",
        "        tweets_clean: a list of words containing the processed tweet\n",
        "    \"\"\"\n",
        "  stemmer = PorterStemmer()                                                           # Instantiate stemming class\n",
        "  stopwords_english = stopwords.words('english')                                      # Instantiate Stopwords class\n",
        "  title = re.sub(r'\\$\\w*', '', title)                                                 # remove stock market tickers like $GE\n",
        "  title = re.sub(r'^RT[\\s]+', '', title)                                              # remove old style retweet text \"RT\"\n",
        "  title = re.sub(r'https?:\\/\\/.*[\\r\\n]*', '', title)                                  # remove hyperlinks\n",
        "  title = re.sub(r'#', '', title)                                                     # remove hashtags only hashtag \"#\"\n",
        "  tokenizer = TweetTokenizer(preserve_case=False,strip_handles=True,reduce_len=True)  # Instantiate TweetTokenizer class\n",
        "  Title_tokens = tokenizer.tokenize(title)                                            # Tokenizing Every titles\n",
        "\n",
        "  Title_clean = []                                                                    # creating an Empty list\n",
        "  for word in Title_tokens:                                                           # using for loop runnig through the tokenizeds title\n",
        "      if (word not in stopwords_english and                                           # Remove stop words\n",
        "          word not in string.punctuation):                                            # Remove punctuations\n",
        "          stem_word = stemmer.stem(word)                                              # Bring it to base form usign stemming \n",
        "          Title_clean.append(stem_word)                                               # Append it to the List called Title_clean\n",
        "\n",
        "  return Title_clean                                                                  # Return the Output\n"
      ],
      "execution_count": 18,
      "outputs": []
    },
    {
      "cell_type": "markdown",
      "metadata": {
        "id": "LX_9cTvFErPL"
      },
      "source": [
        "#### Lets try one title to see the cleaned Data"
      ]
    },
    {
      "cell_type": "code",
      "metadata": {
        "colab": {
          "base_uri": "https://localhost:8080/"
        },
        "id": "OPQ1ZuQ2t5eT",
        "outputId": "0958e3f8-3757-4995-a004-6c2c475a995a"
      },
      "source": [
        "Title_clean = process_tweet(positive_title['title'][0])\n",
        "print(Title_clean , end = \"\") "
      ],
      "execution_count": 19,
      "outputs": [
        {
          "output_type": "stream",
          "text": [
            "['hay', 'presto', 'farmer', 'unveil', 'illeg', 'mock-tudor', 'castl', 'tri', 'hide', 'behind', '40ft', 'hay', 'bale']"
          ],
          "name": "stdout"
        }
      ]
    },
    {
      "cell_type": "code",
      "metadata": {
        "id": "Ps8ffb06l9JC"
      },
      "source": [
        "def build_freqs(titles, ys):\n",
        "   \"\"\"\n",
        "   Build frequencies.\n",
        "    Input:\n",
        "        tweets: a list of tweets\n",
        "        ys: an m x 1 array with the sentiment label of each tweet\n",
        "            (either 0 or 1)\n",
        "    Output:\n",
        "        freqs: a dictionary mapping each (word, sentiment) pair to its\n",
        "        frequency\"\"\"\n",
        "\n",
        "  # Convert np array to list since zip needs an iterable.\n",
        "  # The squeeze is necessary or the list ends up with one element.\n",
        "\n",
        "   yslist = np.squeeze(ys).tolist()\n",
        "\n",
        "  # Start with an empty dictionary and populate it by looping over all titles\n",
        "  # and over all processed words in each title\n",
        "\n",
        "   freqs = {}                                                                            # initilize and Empyty Dictionary\n",
        "   for y, title in zip(yslist, titles):                                                  # loop the label and titles \n",
        "       for word in process_tweet(title):                                                 # processing each title to create a tidy format data\n",
        "           pair = (word, y)                                                              # pairing the word and respective label\n",
        "           if pair in freqs:                                                             # Applying the condition for the pairs in freqs\n",
        "               freqs[pair] += 1                                                          # if pair is present the add 1 and move forward\n",
        "           else:                                                                         \n",
        "               freqs[pair] = 1                                                           # else pair is one\n",
        "   return freqs\n",
        "\n"
      ],
      "execution_count": 20,
      "outputs": []
    },
    {
      "cell_type": "markdown",
      "metadata": {
        "id": "AIwMDx7GHT4o"
      },
      "source": [
        "#### Creating train and test data "
      ]
    },
    {
      "cell_type": "markdown",
      "metadata": {
        "id": "z1srwruHHo4s"
      },
      "source": [
        "#### Extracting only the titles from Positive and Negative titles dataframes"
      ]
    },
    {
      "cell_type": "code",
      "metadata": {
        "id": "JSjXxXG4nSIq"
      },
      "source": [
        "all_positive_titles = list(positive_title['title'])\n",
        "all_negative_titles = list(negative_title['title'])"
      ],
      "execution_count": 21,
      "outputs": []
    },
    {
      "cell_type": "markdown",
      "metadata": {
        "id": "3XJu71itH2np"
      },
      "source": [
        "#### Subset the titles to 250398 records to Make balance data for both classes"
      ]
    },
    {
      "cell_type": "code",
      "metadata": {
        "id": "-0MCaQevMTg0"
      },
      "source": [
        "title_length = 250398"
      ],
      "execution_count": 22,
      "outputs": []
    },
    {
      "cell_type": "code",
      "metadata": {
        "id": "7GOBINSlwD8X"
      },
      "source": [
        "all_positive_titles = all_positive_titles[0:title_length]\n",
        "all_negative_titles = all_negative_titles[0:title_length]"
      ],
      "execution_count": 23,
      "outputs": []
    },
    {
      "cell_type": "markdown",
      "metadata": {
        "id": "pqM8Tu0_IKFF"
      },
      "source": [
        "#### Subset the labels to 250398 records to Make balance data for both classes"
      ]
    },
    {
      "cell_type": "code",
      "metadata": {
        "id": "c_mon4keu7D8"
      },
      "source": [
        "all_positive_labels = positive_title['Label'][0:title_length]\n",
        "all_negative_labels = positive_title['Label'][0:title_length]"
      ],
      "execution_count": 24,
      "outputs": []
    },
    {
      "cell_type": "markdown",
      "metadata": {
        "id": "NKciR91tIWCT"
      },
      "source": [
        "#### set training size "
      ]
    },
    {
      "cell_type": "code",
      "metadata": {
        "id": "cDdVXedY8A7z"
      },
      "source": [
        "train_size = math.ceil(len(all_positive_titles) * 0.8 )"
      ],
      "execution_count": 25,
      "outputs": []
    },
    {
      "cell_type": "markdown",
      "metadata": {
        "id": "PooSD66tIcKD"
      },
      "source": [
        "##### split Train and Test data for Positve and Negative labels"
      ]
    },
    {
      "cell_type": "code",
      "metadata": {
        "id": "aauNHJAAomc-"
      },
      "source": [
        "train_pos = all_positive_titles[0 : train_size]\n",
        "test_pos  = all_positive_titles[train_size:]\n",
        "\n",
        "train_neg = all_negative_titles[0:train_size]\n",
        "test_neg  = all_negative_titles[train_size:]"
      ],
      "execution_count": 26,
      "outputs": []
    },
    {
      "cell_type": "code",
      "metadata": {
        "id": "rdKxDOC2-khr"
      },
      "source": [
        "train_pos_lab = all_positive_labels[0 : train_size]\n",
        "test_pos_lab  = all_positive_labels[train_size:]\n",
        "\n",
        "train_neg_lab = all_negative_labels[0:train_size]\n",
        "test_neg_lab  = all_negative_labels[train_size:]"
      ],
      "execution_count": 27,
      "outputs": []
    },
    {
      "cell_type": "markdown",
      "metadata": {
        "id": "BTDv-FRwIjlJ"
      },
      "source": [
        "#### create final Train and Test data"
      ]
    },
    {
      "cell_type": "code",
      "metadata": {
        "id": "3bBujcdj-OXf"
      },
      "source": [
        "train_x  = train_pos + train_neg\n",
        "test_x  = test_pos + test_neg"
      ],
      "execution_count": 28,
      "outputs": []
    },
    {
      "cell_type": "code",
      "metadata": {
        "id": "BK1vJwfo-cmh"
      },
      "source": [
        "train_y = np.append(train_pos_lab , train_neg_lab).reshape(-1,1)\n",
        "test_y  = np.append(test_pos_lab , test_neg_lab).reshape(-1,1)"
      ],
      "execution_count": 29,
      "outputs": []
    },
    {
      "cell_type": "markdown",
      "metadata": {
        "id": "dxkcSwc3I06L"
      },
      "source": [
        "### A dictionary mapping each (word, sentiment) pair to its frequency"
      ]
    },
    {
      "cell_type": "code",
      "metadata": {
        "id": "AEzKIOaQqDfj"
      },
      "source": [
        "freqs  = build_freqs( train_x , train_y)"
      ],
      "execution_count": 30,
      "outputs": []
    },
    {
      "cell_type": "code",
      "metadata": {
        "colab": {
          "base_uri": "https://localhost:8080/"
        },
        "id": "8vMtW-lSTaPZ",
        "outputId": "f2e70202-1c5f-463c-b169-cca325ddbf2a"
      },
      "source": [
        "freqs"
      ],
      "execution_count": 31,
      "outputs": [
        {
          "output_type": "execute_result",
          "data": {
            "text/plain": [
              "{('hay', 1): 23,\n",
              " ('presto', 1): 1,\n",
              " ('farmer', 1): 862,\n",
              " ('unveil', 1): 777,\n",
              " ('illeg', 1): 2182,\n",
              " ('mock-tudor', 1): 1,\n",
              " ('castl', 1): 67,\n",
              " ('tri', 1): 3468,\n",
              " ('hide', 1): 481,\n",
              " ('behind', 1): 1711,\n",
              " ('40ft', 1): 2,\n",
              " ('bale', 1): 16,\n",
              " ('strike', 1): 5970,\n",
              " ('protest', 1): 14249,\n",
              " ('gridlock', 1): 24,\n",
              " ('poland-ukrain', 1): 1,\n",
              " ('border', 1): 4446,\n",
              " ('top', 1): 3954,\n",
              " ('us', 1): 18423,\n",
              " ('envoy', 1): 854,\n",
              " ('violenc', 1): 3515,\n",
              " ('kenya', 1): 1123,\n",
              " ('ethnic', 1): 652,\n",
              " ('cleans', 1): 175,\n",
              " ('mass', 1): 2183,\n",
              " ('evacu', 1): 1078,\n",
              " ('continu', 1): 2694,\n",
              " ('secret', 1): 2646,\n",
              " ('cia', 1): 1262,\n",
              " ('flight', 1): 2145,\n",
              " ('greenland', 1): 131,\n",
              " ('report', 1): 11240,\n",
              " ('denmark', 1): 459,\n",
              " ('piss', 1): 53,\n",
              " ('investig', 1): 3603,\n",
              " ('children', 1): 4278,\n",
              " ('torch', 1): 383,\n",
              " ('kenyan', 1): 545,\n",
              " ('school', 1): 2991,\n",
              " ('teacher', 1): 751,\n",
              " ('attack', 1): 15915,\n",
              " ('russia', 1): 13664,\n",
              " ('say', 1): 25325,\n",
              " ('iranian', 1): 3401,\n",
              " ('missil', 1): 2926,\n",
              " ('test', 1): 2505,\n",
              " ('week', 1): 3542,\n",
              " ('rais', 1): 2048,\n",
              " ('suspicion', 1): 392,\n",
              " ('true', 1): 334,\n",
              " ('nuclear', 1): 8240,\n",
              " ('ambit', 1): 146,\n",
              " ('al-qaida', 1): 511,\n",
              " ('iraq', 1): 6711,\n",
              " ('use', 1): 8046,\n",
              " ('steadili', 1): 23,\n",
              " ('unravel', 1): 104,\n",
              " ('histor', 1): 887,\n",
              " ('arm', 1): 4006,\n",
              " ('control', 1): 2739,\n",
              " ('treati', 1): 668,\n",
              " ('end', 1): 4728,\n",
              " ('cold', 1): 602,\n",
              " ('war', 1): 10668,\n",
              " ('becam', 1): 320,\n",
              " ('cornerston', 1): 13,\n",
              " ('european', 1): 4051,\n",
              " ('secur', 1): 6263,\n",
              " ('multipl', 1): 315,\n",
              " ('impeach', 1): 109,\n",
              " ('resolut', 1): 758,\n",
              " ('pass', 1): 1754,\n",
              " ('minnesota', 1): 31,\n",
              " ('democrat', 1): 823,\n",
              " ('parti', 1): 4339,\n",
              " ('precinct', 1): 7,\n",
              " ('caucus', 1): 4,\n",
              " ('japanes', 1): 2227,\n",
              " ('town', 1): 2642,\n",
              " ('defi', 1): 533,\n",
              " ('militari', 1): 9341,\n",
              " ('australia', 1): 3738,\n",
              " ('releas', 1): 3796,\n",
              " ('grisli', 1): 32,\n",
              " ('surveil', 1): 1239,\n",
              " ('pictur', 1): 1194,\n",
              " ('slain', 1): 265,\n",
              " ('carcass', 1): 48,\n",
              " ('two', 1): 7793,\n",
              " ('whale', 1): 641,\n",
              " ('haul', 1): 144,\n",
              " ('aboard', 1): 226,\n",
              " ('ship', 1): 2769,\n",
              " ('modern', 1): 525,\n",
              " ('slaveri', 1): 317,\n",
              " ('world', 1): 14546,\n",
              " ('map', 1): 808,\n",
              " ('kidney', 1): 110,\n",
              " ('theif', 1): 2,\n",
              " ('arrest', 1): 7478,\n",
              " ('nepal', 1): 758,\n",
              " ('new', 1): 18383,\n",
              " ('charg', 1): 4391,\n",
              " ('gitmo', 1): 129,\n",
              " ('tortur', 1): 1980,\n",
              " ('time', 1): 6353,\n",
              " ('citizen', 1): 1932,\n",
              " ('scotland', 1): 758,\n",
              " ('yard', 1): 187,\n",
              " ('bhutto', 1): 101,\n",
              " ('kill', 1): 22450,\n",
              " ('bomb', 1): 6606,\n",
              " ('blast', 1): 2369,\n",
              " ('despit', 1): 2287,\n",
              " ('channel', 1): 605,\n",
              " ('4', 1): 1726,\n",
              " ('obtain', 1): 279,\n",
              " ('footag', 1): 589,\n",
              " ('gun', 1): 1221,\n",
              " ('man', 1): 6283,\n",
              " ('assualt', 1): 9,\n",
              " ('iran', 1): 13043,\n",
              " ('start', 1): 2496,\n",
              " ('second', 1): 1995,\n",
              " ('atom', 1): 408,\n",
              " ('power', 1): 5975,\n",
              " ('plant', 1): 2557,\n",
              " ('white', 1): 1476,\n",
              " ('hous', 1): 2706,\n",
              " ('defend', 1): 1413,\n",
              " ('waterboard', 1): 43,\n",
              " ('bush', 1): 790,\n",
              " ('approv', 1): 1912,\n",
              " ('thousand', 1): 3836,\n",
              " ('flee', 1): 1497,\n",
              " ('darfur', 1): 285,\n",
              " ('prayer', 1): 355,\n",
              " ('glorifi', 1): 38,\n",
              " ('work', 1): 3558,\n",
              " ('overlook', 1): 54,\n",
              " ('aftermath', 1): 151,\n",
              " ('tragedi', 1): 340,\n",
              " ('anonym', 1): 651,\n",
              " ('vs', 1): 364,\n",
              " ('scientolog', 1): 104,\n",
              " ('la', 1): 277,\n",
              " ('today', 1): 1961,\n",
              " ('armi', 1): 4824,\n",
              " ('buri', 1): 556,\n",
              " ('studi', 1): 2012,\n",
              " ('fault', 1): 181,\n",
              " ('plan', 1): 7473,\n",
              " ('york', 1): 821,\n",
              " ('legion', 1): 35,\n",
              " ('doom', 1): 174,\n",
              " ('u', 1): 15781,\n",
              " ('massacr', 1): 1455,\n",
              " ('civilian', 1): 2421,\n",
              " ('creat', 1): 1627,\n",
              " ('terrorist', 1): 2963,\n",
              " ('nanci', 1): 16,\n",
              " ('pelosi', 1): 10,\n",
              " ('surg', 1): 605,\n",
              " ('fail', 1): 2447,\n",
              " ('300,000', 1): 133,\n",
              " ('refuge', 1): 2667,\n",
              " ('nobodi', 1): 156,\n",
              " ('talk', 1): 5322,\n",
              " ('jet', 1): 1845,\n",
              " ('scrambl', 1): 312,\n",
              " ('russian', 1): 8998,\n",
              " ('bomber', 1): 1540,\n",
              " ('flew', 1): 116,\n",
              " ('aircraft', 1): 959,\n",
              " ('carrier', 1): 480,\n",
              " ('navi', 1): 1221,\n",
              " ('intercept', 1): 476,\n",
              " ('near', 1): 3924,\n",
              " ('china', 1): 18881,\n",
              " ('challeng', 1): 1310,\n",
              " ('propos', 1): 1832,\n",
              " ('ban', 1): 6224,\n",
              " ('space', 1): 1403,\n",
              " ('weapon', 1): 4044,\n",
              " ('bbc', 1): 4417,\n",
              " ('cover', 1): 966,\n",
              " ('mexican', 1): 1687,\n",
              " ('govern', 1): 13393,\n",
              " ('chiapa', 1): 12,\n",
              " ('sen', 1): 65,\n",
              " ('webb', 1): 4,\n",
              " ('suggest', 1): 1227,\n",
              " ('legal', 1): 2164,\n",
              " ('action', 1): 2150,\n",
              " ('caught', 1): 1045,\n",
              " ('spi', 1): 3864,\n",
              " ('bolivia', 1): 381,\n",
              " ('kevin', 1): 118,\n",
              " ('rudd', 1): 111,\n",
              " ('pm', 1): 3581,\n",
              " ('apologis', 1): 299,\n",
              " ('aborigin', 1): 162,\n",
              " ('stolen', 1): 724,\n",
              " ('gener', 1): 2841,\n",
              " ('australian', 1): 3425,\n",
              " ('sorri', 1): 232,\n",
              " ('indigen', 1): 394,\n",
              " ('german', 1): 4542,\n",
              " ('court', 1): 7145,\n",
              " ('affirm', 1): 56,\n",
              " ('’', 1): 29827,\n",
              " ('ok', 1): 286,\n",
              " ('danish', 1): 449,\n",
              " ('paper', 1): 806,\n",
              " ('reprint', 1): 28,\n",
              " ('prophet', 1): 297,\n",
              " ('moham', 1): 843,\n",
              " ('cartoon', 1): 407,\n",
              " ('someth', 1): 448,\n",
              " ('rotten', 1): 45,\n",
              " ('state', 1): 12131,\n",
              " ('declar', 1): 2088,\n",
              " ('flood', 1): 1581,\n",
              " ('emerg', 1): 2092,\n",
              " ('hezbollah', 1): 1153,\n",
              " ('command', 1): 1318,\n",
              " ('fbi', 1): 449,\n",
              " ('list', 1): 1351,\n",
              " ('muhammad', 1): 222,\n",
              " ('unambigu', 1): 2,\n",
              " ('back', 1): 5237,\n",
              " ('freedom', 1): 1290,\n",
              " ('franc', 1): 4634,\n",
              " ('sarkozi', 1): 553,\n",
              " ('call', 1): 8919,\n",
              " ('mission', 1): 1410,\n",
              " ('mar', 1): 637,\n",
              " ('word', 1): 672,\n",
              " ('day', 1): 6472,\n",
              " ('hugo', 1): 485,\n",
              " ('chavez', 1): 990,\n",
              " ('fungibl', 1): 2,\n",
              " ('veto', 1): 234,\n",
              " ('mccain', 1): 212,\n",
              " ('join', 1): 2457,\n",
              " ('oppos', 1): 715,\n",
              " ('bill', 1): 2193,\n",
              " ('prohibit', 1): 212,\n",
              " ('cb', 1): 124,\n",
              " ('news', 1): 8982,\n",
              " ('museum', 1): 496,\n",
              " ('buy', 1): 1276,\n",
              " ('larg', 1): 1105,\n",
              " ('hit', 1): 4951,\n",
              " ('mexico', 1): 3368,\n",
              " ('citi', 1): 5956,\n",
              " ('satellit', 1): 967,\n",
              " ('could', 1): 6180,\n",
              " ('crash', 1): 3000,\n",
              " ('warsaw', 1): 114,\n",
              " ('march', 1): 1885,\n",
              " ('6', 1): 1231,\n",
              " ('poland', 1): 827,\n",
              " ('put', 1): 2243,\n",
              " ('alert', 1): 785,\n",
              " ('moussaoui', 1): 7,\n",
              " ('depriv', 1): 98,\n",
              " ('constitut', 1): 975,\n",
              " ('right', 1): 7217,\n",
              " ('attorney', 1): 174,\n",
              " ('washingtonpost.com', 1): 14,\n",
              " ('may', 1): 6366,\n",
              " ('reuter', 1): 1214,\n",
              " ('suicid', 1): 2866,\n",
              " ('37', 1): 213,\n",
              " ('pakistan', 1): 6583,\n",
              " ('ralli', 1): 1793,\n",
              " ('muslim', 1): 4841,\n",
              " ('riot', 1): 2229,\n",
              " ('sixth', 1): 118,\n",
              " ('night', 1): 858,\n",
              " ('sever', 1): 1896,\n",
              " ('pc', 1): 85,\n",
              " ('headlin', 1): 168,\n",
              " ('fix', 1): 336,\n",
              " ('must', 1): 2150,\n",
              " ('get', 1): 5222,\n",
              " ('middl', 1): 1964,\n",
              " ('east', 1): 3344,\n",
              " ('matter', 1): 388,\n",
              " ('vet', 1): 82,\n",
              " ('egypt', 1): 7329,\n",
              " ('step', 1): 2007,\n",
              " ('hiv', 1): 506,\n",
              " ('kosovo', 1): 321,\n",
              " ('independ', 1): 1774,\n",
              " ('serbia', 1): 335,\n",
              " ('massiv', 1): 1484,\n",
              " ('tax', 1): 2378,\n",
              " ('evas', 1): 156,\n",
              " ('scandal', 1): 1649,\n",
              " ('germani', 1): 4495,\n",
              " ('900', 1): 111,\n",
              " ('manag', 1): 615,\n",
              " ('celebr', 1): 1040,\n",
              " ('involv', 1): 1449,\n",
              " ('billion', 1): 3534,\n",
              " ('euro', 1): 1579,\n",
              " ('miss', 1): 2827,\n",
              " ('iraqi', 1): 2615,\n",
              " ('men', 1): 2789,\n",
              " ('tattoo', 1): 77,\n",
              " ('id', 1): 236,\n",
              " ('bodi', 1): 2346,\n",
              " ('mutil', 1): 210,\n",
              " ('found', 1): 5461,\n",
              " ('abbey', 1): 10,\n",
              " ('graveyard', 1): 36,\n",
              " ('identifi', 1): 663,\n",
              " ('notori', 1): 219,\n",
              " ('mediev', 1): 106,\n",
              " ('villain', 1): 32,\n",
              " ('rumour', 1): 142,\n",
              " ('gay', 1): 2671,\n",
              " ('lover', 1): 113,\n",
              " ('edward', 1): 730,\n",
              " ('ii', 1): 519,\n",
              " ('18', 1): 941,\n",
              " ('face', 1): 5606,\n",
              " ('execut', 1): 2749,\n",
              " ('nigeria', 1): 2128,\n",
              " ('dress', 1): 317,\n",
              " ('women', 1): 4837,\n",
              " ('cloth', 1): 335,\n",
              " ('want', 1): 4646,\n",
              " ('six-nat', 1): 5,\n",
              " ('elit', 1): 485,\n",
              " ('eu', 1): 5507,\n",
              " ('defenc', 1): 1053,\n",
              " ('forc', 1): 10186,\n",
              " ('shut', 1): 1215,\n",
              " ('leak', 1): 2133,\n",
              " ('doc', 1): 139,\n",
              " ('emporium', 1): 1,\n",
              " ('ye', 1): 321,\n",
              " ('wikileak', 1): 1837,\n",
              " ('polic', 1): 12904,\n",
              " ('fear', 1): 3634,\n",
              " ('airport', 1): 1799,\n",
              " ('stand-off', 1): 84,\n",
              " ('fidel', 1): 218,\n",
              " ('castro', 1): 400,\n",
              " ('announc', 1): 2462,\n",
              " ('retir', 1): 391,\n",
              " ('cuban', 1): 471,\n",
              " ('presid', 1): 12043,\n",
              " ('accus', 1): 4749,\n",
              " ('raid', 1): 2018,\n",
              " ('stunt', 1): 143,\n",
              " ('terror', 1): 3941,\n",
              " ('plot', 1): 1390,\n",
              " ('john', 1): 1103,\n",
              " ('howard', 1): 25,\n",
              " ('japan', 1): 6929,\n",
              " ('destroy', 1): 1843,\n",
              " ('collid', 1): 221,\n",
              " ('fish', 1): 933,\n",
              " ('boat', 1): 1194,\n",
              " ('30', 1): 1655,\n",
              " ('million', 1): 5727,\n",
              " ('turn', 1): 2958,\n",
              " ('light', 1): 856,\n",
              " ('29', 1): 322,\n",
              " ('five', 1): 2353,\n",
              " ('dead', 1): 6404,\n",
              " ('congo', 1): 866,\n",
              " ('truth', 1): 454,\n",
              " ('hidden', 1): 399,\n",
              " ('even', 1): 2206,\n",
              " ('seem', 1): 595,\n",
              " ('told', 1): 1620,\n",
              " ('myanmar', 1): 1135,\n",
              " ('draft', 1): 614,\n",
              " ('readi', 1): 1621,\n",
              " ('newsflash', 1): 3,\n",
              " ('oregonlive.com', 1): 2,\n",
              " ('brit', 1): 153,\n",
              " ('let', 1): 1142,\n",
              " ('isra', 1): 8335,\n",
              " ('crimin', 1): 1753,\n",
              " ('go', 1): 3474,\n",
              " ('afraid', 1): 170,\n",
              " ('confront', 1): 571,\n",
              " ('heathrow', 1): 108,\n",
              " ('philip', 1): 100,\n",
              " ('nazi', 1): 1131,\n",
              " ('camilla', 1): 9,\n",
              " ('crocodil', 1): 126,\n",
              " ('diana', 1): 68,\n",
              " ('murder', 1): 3552,\n",
              " ('mad', 1): 165,\n",
              " ('insist', 1): 386,\n",
              " ('al', 1): 2851,\n",
              " ('fay', 1): 9,\n",
              " ('florida', 1): 119,\n",
              " ('latest', 1): 1585,\n",
              " ('divid', 1): 487,\n",
              " ('board', 1): 746,\n",
              " ('teach', 1): 304,\n",
              " ('evolut', 1): 76,\n",
              " ('theori', 1): 228,\n",
              " ('fort', 1): 55,\n",
              " ('hood', 1): 95,\n",
              " ('solid', 1): 65,\n",
              " ('break', 1): 1961,\n",
              " ('silenc', 1): 480,\n",
              " ('baghdad', 1): 980,\n",
              " ('bird', 1): 706,\n",
              " ('market', 1): 1982,\n",
              " ('disabl', 1): 331,\n",
              " ('jihad', 1): 492,\n",
              " ('abort', 1): 715,\n",
              " ('hypocrit', 1): 44,\n",
              " ('cathol', 1): 967,\n",
              " ('advis', 1): 589,\n",
              " ('girlfriend', 1): 155,\n",
              " ('explos', 1): 2061,\n",
              " ('video', 1): 4905,\n",
              " ('undersea', 1): 84,\n",
              " ('saboteur', 1): 24,\n",
              " ('respons', 1): 2364,\n",
              " ('cabl', 1): 593,\n",
              " ('cut', 1): 2938,\n",
              " ('yellow', 1): 107,\n",
              " ('fever', 1): 113,\n",
              " ('crisi', 1): 5383,\n",
              " ('paraguay', 1): 140,\n",
              " ('ex-mi', 1): 17,\n",
              " ('chief', 1): 3947,\n",
              " ('admit', 1): 1546,\n",
              " ('agent', 1): 809,\n",
              " ('licenc', 1): 117,\n",
              " ('deni', 1): 2012,\n",
              " ('yugoslavia', 1): 25,\n",
              " ('1989-1994', 1): 1,\n",
              " ('oct', 1): 84,\n",
              " ('1', 1): 1917,\n",
              " ('1993', 1): 35,\n",
              " ('januari', 1): 370,\n",
              " ('24', 1): 904,\n",
              " ('1994', 1): 88,\n",
              " ('price', 1): 2100,\n",
              " ('doubl', 1): 746,\n",
              " ('everi', 1): 1152,\n",
              " ('sixteen', 1): 38,\n",
              " ('hour', 1): 1919,\n",
              " ('averag', 1): 301,\n",
              " ('one', 1): 7417,\n",
              " ('novi', 1): 5,\n",
              " ('dinar', 1): 13,\n",
              " ('1,300', 1): 67,\n",
              " ('000,000', 1): 41,\n",
              " ('pre', 1): 70,\n",
              " ('1990', 1): 158,\n",
              " ('blair', 1): 480,\n",
              " ('german-l', 1): 7,\n",
              " ('campaign', 1): 2375,\n",
              " ('block', 1): 2184,\n",
              " ('presidenti', 1): 1374,\n",
              " ('bid', 1): 1436,\n",
              " ('drug', 1): 4098,\n",
              " ('hitmen', 1): 26,\n",
              " ('singer', 1): 188,\n",
              " ('taxpay', 1): 220,\n",
              " ('left', 1): 1614,\n",
              " ('northern', 1): 2069,\n",
              " ('rock', 1): 1000,\n",
              " ('rubbish', 1): 77,\n",
              " ('thank', 1): 420,\n",
              " ('offshor', 1): 289,\n",
              " ('compani', 1): 3062,\n",
              " ('britain', 1): 3372,\n",
              " ('femal', 1): 1328,\n",
              " ('spitfir', 1): 20,\n",
              " ('pilot', 1): 968,\n",
              " ('receiv', 1): 1307,\n",
              " ('badg', 1): 16,\n",
              " ('courag', 1): 101,\n",
              " ('last', 1): 4113,\n",
              " ('mp', 1): 1487,\n",
              " ('blame', 1): 1772,\n",
              " ('toler', 1): 221,\n",
              " ('earthquak', 1): 1971,\n",
              " ('holi', 1): 445,\n",
              " ('land', 1): 2496,\n",
              " ('cleric', 1): 769,\n",
              " ('criticis', 1): 405,\n",
              " ('ahmadinejad', 1): 696,\n",
              " ('speak', 1): 927,\n",
              " ('need', 1): 2474,\n",
              " ('prepar', 1): 1996,\n",
              " ('return', 1): 2565,\n",
              " ('12th', 1): 43,\n",
              " ('imam', 1): 221,\n",
              " ('mehdi', 1): 29,\n",
              " ('save', 1): 1795,\n",
              " ('injustic', 1): 78,\n",
              " ('castropedia', 1): 2,\n",
              " ('cuba', 1): 1256,\n",
              " ('fact', 1): 441,\n",
              " ('figur', 1): 802,\n",
              " ('worth', 1): 848,\n",
              " ('read', 1): 632,\n",
              " ('assassin', 1): 991,\n",
              " ('alon', 1): 384,\n",
              " ('banda', 1): 27,\n",
              " ('sister', 1): 275,\n",
              " ('india', 1): 8005,\n",
              " ('poorest', 1): 188,\n",
              " ('region', 1): 2734,\n",
              " ('hundr', 1): 2323,\n",
              " ('pink-clad', 1): 1,\n",
              " ('vigilant', 1): 250,\n",
              " ('male', 1): 365,\n",
              " ('corrupt', 1): 1976,\n",
              " ('confirm', 1): 1945,\n",
              " ('troop', 1): 4679,\n",
              " ('withdraw', 1): 966,\n",
              " ('businesswoman', 1): 9,\n",
              " ('life', 1): 2687,\n",
              " ('saudi', 1): 4875,\n",
              " ('religi', 1): 1201,\n",
              " ('coffe', 1): 204,\n",
              " ('colleagu', 1): 212,\n",
              " ('anti-kosovo', 1): 1,\n",
              " ('leav', 1): 3212,\n",
              " ('embassi', 1): 1834,\n",
              " ('flame', 1): 196,\n",
              " ('tv', 1): 1810,\n",
              " ('jail', 1): 3619,\n",
              " ('dubai', 1): 723,\n",
              " ('bare', 1): 188,\n",
              " ('visibl', 1): 85,\n",
              " ('cannabi', 1): 362,\n",
              " ('speck', 1): 3,\n",
              " ('morbidli', 1): 5,\n",
              " ('obes', 1): 177,\n",
              " ('confus', 1): 194,\n",
              " ('fire', 1): 6148,\n",
              " ('offici', 1): 8742,\n",
              " ('upset', 1): 144,\n",
              " ('four', 1): 2567,\n",
              " ('slid', 1): 14,\n",
              " ('lazi', 1): 29,\n",
              " ('boy', 1): 1575,\n",
              " ('exodu', 1): 131,\n",
              " ('skill', 1): 126,\n",
              " ('profession', 1): 147,\n",
              " ('largest', 1): 1943,\n",
              " ('emigr', 1): 56,\n",
              " ('total', 1): 737,\n",
              " ('sigh', 1): 14,\n",
              " ('updat', 1): 771,\n",
              " ('pic', 1): 507,\n",
              " ('stupid', 1): 156,\n",
              " ('isp', 1): 235,\n",
              " ('internet', 1): 2927,\n",
              " ('piraci', 1): 321,\n",
              " ('legisl', 1): 705,\n",
              " ('implement', 1): 298,\n",
              " ('april', 1): 512,\n",
              " ('2009', 1): 581,\n",
              " ('peopl', 1): 11360,\n",
              " ('flesh', 1): 54,\n",
              " ('blood', 1): 632,\n",
              " ('uniform', 1): 190,\n",
              " ('still', 1): 2627,\n",
              " ('die', 1): 5181,\n",
              " ('afghanistan', 1): 3819,\n",
              " ('ussr', 1): 43,\n",
              " ('disintegr', 1): 60,\n",
              " ('part', 1): 2825,\n",
              " ('due', 1): 1647,\n",
              " ('interventionist', 1): 8,\n",
              " ('adventur', 1): 64,\n",
              " ('latter', 1): 25,\n",
              " ('serbian', 1): 148,\n",
              " ('looter', 1): 72,\n",
              " ('girl', 1): 2930,\n",
              " ('uk', 1): 8715,\n",
              " ('detect', 1): 493,\n",
              " ('nation', 1): 7257,\n",
              " ('dna', 1): 410,\n",
              " ('regist', 1): 303,\n",
              " ('made', 1): 2082,\n",
              " ('compulsori', 1): 90,\n",
              " ('28', 1): 409,\n",
              " ('mile', 1): 585,\n",
              " ('long', 1): 1263,\n",
              " ('virtual', 1): 232,\n",
              " ('fenc', 1): 198,\n",
              " ('x-ray', 1): 31,\n",
              " ('scanner', 1): 78,\n",
              " ('mind', 1): 287,\n",
              " ('nake', 1): 299,\n",
              " ('photograph', 1): 490,\n",
              " ('store', 1): 593,\n",
              " ('feder', 1): 898,\n",
              " ('databas', 1): 207,\n",
              " ('guatemalan', 1): 162,\n",
              " ('seiz', 1): 2249,\n",
              " ('spanish', 1): 1305,\n",
              " ('tell', 1): 2214,\n",
              " ('church', 1): 1945,\n",
              " ('stop', 1): 3239,\n",
              " ('meddl', 1): 111,\n",
              " ('napl', 1): 36,\n",
              " ('gone', 1): 464,\n",
              " ('wild', 1): 333,\n",
              " ('climat', 1): 2806,\n",
              " ('chang', 1): 4075,\n",
              " ('canada', 1): 3529,\n",
              " ('polar', 1): 208,\n",
              " ('bear', 1): 598,\n",
              " ('beset', 1): 24,\n",
              " ('side', 1): 959,\n",
              " ('green', 1): 791,\n",
              " ('zone', 1): 1445,\n",
              " ('north', 1): 8751,\n",
              " ('korea', 1): 8615,\n",
              " ('detain', 1): 1753,\n",
              " ('death', 1): 8428,\n",
              " ('final', 1): 1486,\n",
              " ('french', 1): 4832,\n",
              " ('chernobyl', 1): 203,\n",
              " ('poison', 1): 727,\n",
              " ('rhône', 1): 1,\n",
              " ('play', 1): 1033,\n",
              " ('bring', 1): 1535,\n",
              " ('free', 1): 2696,\n",
              " ('clean', 1): 601,\n",
              " ('water', 1): 3288,\n",
              " ('rural', 1): 242,\n",
              " ('africa', 1): 3627,\n",
              " ('pal', 1): 22,\n",
              " ('57', 1): 111,\n",
              " ('young', 1): 1611,\n",
              " ('flirt', 1): 18,\n",
              " ('plane', 1): 2881,\n",
              " ('sell', 1): 1422,\n",
              " ('f', 1): 492,\n",
              " ('22', 1): 619,\n",
              " ('raptor', 1): 17,\n",
              " ('caricaturist', 1): 3,\n",
              " ('fame', 1): 97,\n",
              " ('homeless', 1): 359,\n",
              " ('british', 1): 5315,\n",
              " ('adulteri', 1): 136,\n",
              " ('filipino', 1): 215,\n",
              " ('woman', 1): 3658,\n",
              " ('ask', 1): 2288,\n",
              " ('foreign', 1): 4935,\n",
              " ('offic', 1): 3901,\n",
              " ('help', 1): 4579,\n",
              " ('magnitud', 1): 667,\n",
              " ('6.6', 1): 31,\n",
              " ('quak', 1): 893,\n",
              " ('indonesia', 1): 1442,\n",
              " ('home-school', 1): 4,\n",
              " ('avoid', 1): 946,\n",
              " ('70', 1): 620,\n",
              " ('year', 1): 13679,\n",
              " ('old', 1): 1837,\n",
              " ('law', 1): 5457,\n",
              " ('23', 1): 527,\n",
              " ('student', 1): 2736,\n",
              " ('sentenc', 1): 3010,\n",
              " ('download', 1): 150,\n",
              " ('doomsday', 1): 100,\n",
              " ('vault', 1): 56,\n",
              " ('tunnel', 1): 511,\n",
              " ('arctic', 1): 770,\n",
              " ('mountain', 1): 471,\n",
              " ('viewer', 1): 63,\n",
              " ('cri', 1): 250,\n",
              " ('foul', 1): 89,\n",
              " ('ten', 1): 1047,\n",
              " ('sport', 1): 361,\n",
              " ('weekend', 1): 470,\n",
              " ('world-wid', 1): 13,\n",
              " ('youtub', 1): 523,\n",
              " ('outag', 1): 107,\n",
              " ('caus', 1): 2458,\n",
              " ('censorship', 1): 436,\n",
              " ('8,500', 1): 6,\n",
              " ('nh', 1): 212,\n",
              " ('staff', 1): 973,\n",
              " ('£', 1): 1646,\n",
              " ('1m', 1): 76,\n",
              " ('pension', 1): 327,\n",
              " ('pot', 1): 228,\n",
              " ('...', 1): 5034,\n",
              " ('burden', 1): 117,\n",
              " ('set', 1): 4210,\n",
              " ('soar', 1): 474,\n",
              " ('greec', 1): 2622,\n",
              " ('fake', 1): 903,\n",
              " ('data', 1): 1819,\n",
              " ('europ', 1): 4523,\n",
              " ('turkish', 1): 2689,\n",
              " ('push', 1): 1899,\n",
              " ('deeper', 1): 147,\n",
              " ('kurdish', 1): 1028,\n",
              " ('ex-sa', 1): 4,\n",
              " ('soldier', 1): 4396,\n",
              " ('knew', 1): 256,\n",
              " ('machin', 1): 353,\n",
              " ('dirt', 1): 34,\n",
              " ('shelter', 1): 318,\n",
              " ('5', 1): 2010,\n",
              " ('minut', 1): 586,\n",
              " ('350', 1): 96,\n",
              " ('norway', 1): 1099,\n",
              " ('build', 1): 3342,\n",
              " ('giant', 1): 1118,\n",
              " ('open', 1): 3497,\n",
              " ('mani', 1): 2412,\n",
              " ('prison', 1): 4599,\n",
              " ('possess', 1): 256,\n",
              " ('0.003', 1): 2,\n",
              " ('g', 1): 182,\n",
              " ('adult', 1): 272,\n",
              " ('public', 1): 3112,\n",
              " ('menac', 1): 74,\n",
              " ('archbishop', 1): 183,\n",
              " ('canterburi', 1): 47,\n",
              " ('seed', 1): 146,\n",
              " ('door', 1): 427,\n",
              " ('100', 1): 1732,\n",
              " ('speech', 1): 1171,\n",
              " ('shrink', 1): 178,\n",
              " ('bosnian', 1): 166,\n",
              " ('serb', 1): 169,\n",
              " ('consul', 1): 340,\n",
              " ('fought', 1): 225,\n",
              " ('nato', 1): 2809,\n",
              " ('heroin', 1): 213,\n",
              " ('liechtenstein', 1): 30,\n",
              " ('spread', 1): 1539,\n",
              " ('oil', 1): 5030,\n",
              " ('high', 1): 2460,\n",
              " ('see', 1): 2300,\n",
              " ('ga', 1): 3003,\n",
              " ('spring', 1): 522,\n",
              " ('papua', 1): 296,\n",
              " ('guinea', 1): 491,\n",
              " ('gave', 1): 440,\n",
              " ('birth', 1): 604,\n",
              " ('prematur', 1): 63,\n",
              " ('struggl', 1): 1150,\n",
              " ('hangman', 1): 13,\n",
              " ('noos', 1): 26,\n",
              " ('find', 1): 3262,\n",
              " ('immens', 1): 34,\n",
              " ('160', 1): 102,\n",
              " ('dodger', 1): 27,\n",
              " ('confess', 1): 326,\n",
              " ('probe', 1): 1716,\n",
              " ('intern', 1): 5064,\n",
              " ('spiegel', 1): 252,\n",
              " ('onlin', 1): 1867,\n",
              " ('cop', 1): 590,\n",
              " ('lynch', 1): 143,\n",
              " ('strong', 1): 734,\n",
              " ('mob', 1): 518,\n",
              " ('shot', 1): 2738,\n",
              " ('hama', 1): 2852,\n",
              " ('babi', 1): 1448,\n",
              " ('poll', 1): 1614,\n",
              " ('93', 1): 106,\n",
              " ('worldwid', 1): 725,\n",
              " ('condemn', 1): 1622,\n",
              " ('9/11', 1): 455,\n",
              " ('0', 1): 49,\n",
              " ('ground', 1): 1364,\n",
              " ('cheney', 1): 114,\n",
              " ('email', 1): 593,\n",
              " ('plameg', 1): 1,\n",
              " ('wrong', 1): 707,\n",
              " ('happen', 1): 1002,\n",
              " ('consid', 1): 1637,\n",
              " ('one-child', 1): 108,\n",
              " ('polici', 1): 2219,\n",
              " ('princ', 1): 756,\n",
              " ('harri', 1): 203,\n",
              " ('secretli', 1): 296,\n",
              " ('serv', 1): 648,\n",
              " ('editor', 1): 365,\n",
              " ('feet', 1): 270,\n",
              " ('critiqu', 1): 40,\n",
              " ('murdoch', 1): 683,\n",
              " ('herald', 1): 137,\n",
              " ('tribun', 1): 359,\n",
              " ('search', 1): 1573,\n",
              " ('former', 1): 4785,\n",
              " ('home', 1): 3910,\n",
              " ('jersey', 1): 44,\n",
              " ('child', 1): 2246,\n",
              " ('skull', 1): 133,\n",
              " ('brick', 1): 46,\n",
              " ('cellar', 1): 44,\n",
              " ('signific', 1): 414,\n",
              " ('faithless', 1): 2,\n",
              " ('punish', 1): 800,\n",
              " ('apostasi', 1): 57,\n",
              " ('websit', 1): 1216,\n",
              " ('allianc', 1): 424,\n",
              " ('danger', 1): 1381,\n",
              " ('scoop', 1): 48,\n",
              " ('advoc', 1): 273,\n",
              " ('watchdog', 1): 491,\n",
              " ('congress', 1): 710,\n",
              " ('shoddi', 1): 31,\n",
              " ('kevlar', 1): 2,\n",
              " ('helmet', 1): 62,\n",
              " ('squatter', 1): 44,\n",
              " ('reveal', 1): 2768,\n",
              " ('chancellor', 1): 450,\n",
              " ('merkel', 1): 1214,\n",
              " ('send', 1): 2603,\n",
              " ('warship', 1): 657,\n",
              " ('coast', 1): 1600,\n",
              " ('lebanon', 1): 1440,\n",
              " ('anti-war', 1): 51,\n",
              " ('5th', 1): 85,\n",
              " ('anniversari', 1): 790,\n",
              " ('tragic', 1): 109,\n",
              " ('occup', 1): 377,\n",
              " ('taught', 1): 88,\n",
              " ('sharia', 1): 314,\n",
              " ('koran', 1): 148,\n",
              " ('toward', 1): 1354,\n",
              " ('model', 1): 532,\n",
              " ('pari', 1): 1368,\n",
              " ('river', 1): 688,\n",
              " ('chaldean', 1): 4,\n",
              " ('kidnap', 1): 1681,\n",
              " ('vote', 1): 4202,\n",
              " ('mugab', 1): 528,\n",
              " ('order', 1): 3687,\n",
              " ('“', 1): 5390,\n",
              " ('critic', 1): 2606,\n",
              " ('”', 1): 5313,\n",
              " ('major', 1): 2744,\n",
              " ('defici', 1): 17,\n",
              " ('construct', 1): 787,\n",
              " ('fall', 1): 1975,\n",
              " ('leagu', 1): 575,\n",
              " ('tabl', 1): 238,\n",
              " ('pupil', 1): 179,\n",
              " ('boycott', 1): 735,\n",
              " ('anti-semit', 1): 460,\n",
              " ('shakespear', 1): 24,\n",
              " ('minist', 1): 9196,\n",
              " ('vow', 1): 1522,\n",
              " ('palestinian', 1): 6474,\n",
              " ('holocaust', 1): 583,\n",
              " ('problem', 1): 1469,\n",
              " ('liabil', 1): 75,\n",
              " ('realli', 1): 754,\n",
              " ('easi', 1): 159,\n",
              " ('arabia', 1): 2314,\n",
              " ('countri', 1): 10548,\n",
              " ('jamaican', 1): 62,\n",
              " ('marijuana', 1): 616,\n",
              " ('rever', 1): 35,\n",
              " ('rastafarian', 1): 7,\n",
              " ('popul', 1): 1454,\n",
              " ('clash', 1): 2941,\n",
              " ('armenia', 1): 190,\n",
              " ('unrest', 1): 913,\n",
              " ('grow', 1): 2302,\n",
              " ('10', 1): 2815,\n",
              " ('battalion', 1): 102,\n",
              " ('venezuela', 1): 2888,\n",
              " ('colombia', 1): 817,\n",
              " ('document', 1): 1529,\n",
              " ('global', 1): 4277,\n",
              " ('domin', 1): 361,\n",
              " ('provok', 1): 244,\n",
              " ('violent', 1): 1167,\n",
              " ('backlash', 1): 257,\n",
              " ('across', 1): 2154,\n",
              " ('expert', 1): 1658,\n",
              " ('publicli', 1): 210,\n",
              " ('unit', 1): 4210,\n",
              " ('meet', 1): 3134,\n",
              " ('ufo', 1): 146,\n",
              " ('elect', 1): 5561,\n",
              " ('dmitri', 1): 127,\n",
              " ('medvedev', 1): 295,\n",
              " ('win', 1): 2268,\n",
              " ('70.23', 1): 2,\n",
              " ('percent', 1): 1315,\n",
              " ('reddit', 1): 353,\n",
              " ('number', 1): 2010,\n",
              " ('disgruntl', 1): 21,\n",
              " ('ex-memb', 1): 4,\n",
              " ('web', 1): 660,\n",
              " ('tightli', 1): 16,\n",
              " ('imag', 1): 1165,\n",
              " ('father', 1): 899,\n",
              " ('mod', 1): 71,\n",
              " ('propaganda', 1): 715,\n",
              " ('tool', 1): 250,\n",
              " ('anti-quran', 1): 1,\n",
              " ('film', 1): 1256,\n",
              " ('air', 1): 4231,\n",
              " ('netherland', 1): 458,\n",
              " ('cnn', 1): 608,\n",
              " ('bullshit', 1): 32,\n",
              " ('like', 1): 4014,\n",
              " ('american', 1): 4160,\n",
              " ('context', 1): 63,\n",
              " ('refer', 1): 276,\n",
              " ('predominantli', 1): 35,\n",
              " ('makeup', 1): 22,\n",
              " ('coalit', 1): 1082,\n",
              " ('n', 1): 3421,\n",
              " ('unanim', 1): 131,\n",
              " ('impos', 1): 782,\n",
              " ('sanction', 1): 2871,\n",
              " ('eat', 1): 620,\n",
              " ('planet', 1): 448,\n",
              " ('norwegian', 1): 574,\n",
              " ('pro-whal', 1): 2,\n",
              " ('lobbi', 1): 377,\n",
              " ('said', 1): 8436,\n",
              " ('monday', 1): 2058,\n",
              " ('bother', 1): 37,\n",
              " ('hold', 1): 2586,\n",
              " ('alreadi', 1): 910,\n",
              " ('know', 1): 1215,\n",
              " ('result', 1): 1339,\n",
              " ('titan', 1): 120,\n",
              " ('draw', 1): 657,\n",
              " ('shoot', 1): 2196,\n",
              " ('front', 1): 1069,\n",
              " ('gaza', 1): 6013,\n",
              " ('bombshel', 1): 35,\n",
              " ('vaniti', 1): 16,\n",
              " ('fair', 1): 293,\n",
              " ('civil', 1): 1634,\n",
              " ('backfir', 1): 89,\n",
              " ('youth', 1): 832,\n",
              " ('sick', 1): 280,\n",
              " ('extrem', 1): 794,\n",
              " ('ukrain', 1): 9572,\n",
              " ('25', 1): 940,\n",
              " ('armor', 1): 135,\n",
              " ('vehicl', 1): 757,\n",
              " ('rumbl', 1): 52,\n",
              " ('lie', 1): 735,\n",
              " ('timelin', 1): 96,\n",
              " ('suspect', 1): 4019,\n",
              " ('ecuador', 1): 647,\n",
              " ('michel', 1): 154,\n",
              " ('malkin', 1): 4,\n",
              " ('marin', 1): 735,\n",
              " ('psychopath', 1): 20,\n",
              " ('abus', 1): 2584,\n",
              " ('puppi', 1): 50,\n",
              " ('sociopath', 1): 4,\n",
              " ('stick', 1): 218,\n",
              " ('togeth', 1): 442,\n",
              " ('colombian', 1): 449,\n",
              " ('genocid', 1): 920,\n",
              " ('somali', 1): 937,\n",
              " ('cool', 1): 284,\n",
              " ('islam', 1): 6329,\n",
              " ('rise', 1): 3435,\n",
              " ('combin', 1): 204,\n",
              " ('busi', 1): 1631,\n",
              " ('perform', 1): 402,\n",
              " ('promot', 1): 619,\n",
              " ('societi', 1): 568,\n",
              " ('term', 1): 920,\n",
              " ('un', 1): 7262,\n",
              " ('israel', 1): 13469,\n",
              " ('superpow', 1): 110,\n",
              " ('real', 1): 1139,\n",
              " ('destabil', 1): 112,\n",
              " ('south', 1): 8195,\n",
              " ('america', 1): 2060,\n",
              " ('econom', 1): 2290,\n",
              " ('away', 1): 1459,\n",
              " ('lightli', 1): 27,\n",
              " ('narcot', 1): 57,\n",
              " ('briton', 1): 480,\n",
              " ('protect', 1): 2216,\n",
              " ...}"
            ]
          },
          "metadata": {
            "tags": []
          },
          "execution_count": 31
        }
      ]
    },
    {
      "cell_type": "markdown",
      "metadata": {
        "id": "HAuhBXENJEq0"
      },
      "source": [
        "### As it was a logistic regression classifier creating few functions \n",
        "\n",
        "\n",
        "*   Sigmoid : Return the probability in between 0 and 1 as a Biniary classifier\n",
        "*   Gradient Descent :\n",
        "    * Gradient descent is a first-order iterative optimization algorithm for finding a local minimum of a differentiable function. \n",
        "    * The idea is to take repeated steps in the opposite direction of the gradient (or approximate gradient) of the function at the current point, because this is the direction of steepest descent. Conversely, stepping in the direction of the gradient will lead to a local maximum of that function \n",
        "    * the procedure is then known as gradient ascent.\n",
        "\n"
      ]
    },
    {
      "cell_type": "code",
      "metadata": {
        "id": "FuISF11A-MhH"
      },
      "source": [
        "def sigmoid(z):                                                               \n",
        "  h = np.divide(1 , np.add(1 , np.exp(-z)))\n",
        "  return h"
      ],
      "execution_count": 32,
      "outputs": []
    },
    {
      "cell_type": "code",
      "metadata": {
        "id": "Moktz7bQCoPz"
      },
      "source": [
        "def gradient_descent(x , y , theta , alpha , num_iters , epsilon):\n",
        "  m = len(x)\n",
        "  for i in range(0 , num_iters):\n",
        "    z = np.dot(x , theta)\n",
        "    h = np.divide( 1 , np.add( 1 , np.exp(-z)))\n",
        "    J = (-1/m) * (np.dot(y.T , np.log(h+epsilon)) + np.dot((1-y).T , np.log((1-h)+epsilon)))\n",
        "    theta = np.subtract(theta , np.multiply(np.divide(alpha , m) , np.dot(x.T , np.subtract(h,y))))\n",
        "\n",
        "  J = float(J)\n",
        "  return J , theta "
      ],
      "execution_count": 33,
      "outputs": []
    },
    {
      "cell_type": "markdown",
      "metadata": {
        "id": "EgjT3SqfLOW-"
      },
      "source": [
        "### Extracting a feature vector of dimension of (1,3) using the function extract features"
      ]
    },
    {
      "cell_type": "code",
      "metadata": {
        "id": "jGlq2WG6Gdie"
      },
      "source": [
        "def extract_features(title , freqs):\n",
        "  '''\n",
        "    Input: \n",
        "        tweet: a list of words for one tweet\n",
        "        freqs: a dictionary corresponding to the frequencies of each tuple (word, label)\n",
        "    Output: \n",
        "        x: a feature vector of dimension (1,3)\n",
        "    '''\n",
        "\n",
        "  word_1 = process_tweet(title)                                                            # process_tweet tokenizes, stems, and removes stopwords\n",
        "  x = np.zeros((1 , 3))                                                                    # 3 elements in the form of a 1 x 3 vector [ bias , positive_label , negative_label]\n",
        "  x[0,0] = 1                                                                               # bias is set to 1\n",
        "       \n",
        "  for word in word_1:                                                                      # runnig for loop through the word\n",
        "    x[0,1] += freqs.get((word , 1.0 ) , 0 )                                                # increment the word count for the positive label 1\n",
        "    x[0,2] += freqs.get((word , 0.0)  , 0)                                                 # increment the word count for the negative label 0\n",
        "\n",
        "  assert(x.shape == (1,3))\n",
        "  return x\n"
      ],
      "execution_count": 34,
      "outputs": []
    },
    {
      "cell_type": "markdown",
      "metadata": {
        "id": "BY-EmF8_LHzA"
      },
      "source": [
        "### Training the Logistic Regression  Model"
      ]
    },
    {
      "cell_type": "code",
      "metadata": {
        "id": "nB0eqb-_LfXd"
      },
      "source": [
        "X = np.zeros((len(train_x) , 3))                                                           # collect the features 'x' and stack them into a matrix 'X'\n",
        "\n",
        "\n",
        "for i in range(len(train_x)):\n",
        "  X[i,:] = extract_features(train_x[i] , freqs)\n",
        "\n",
        "Y = train_y                                                                                # training labels corresponding to X"
      ],
      "execution_count": 35,
      "outputs": []
    },
    {
      "cell_type": "markdown",
      "metadata": {
        "id": "-ZHLYm59MKMD"
      },
      "source": [
        "### Apply Gradient Descent Algorthim "
      ]
    },
    {
      "cell_type": "code",
      "metadata": {
        "id": "jsug58DnMOyR"
      },
      "source": [
        "J, theta = gradient_descent(X, Y, np.zeros((3, 1)), 0.1, 500 , 0.000001)                     # Training the model using X , Y and theta and Hyper Parameters"
      ],
      "execution_count": 36,
      "outputs": []
    },
    {
      "cell_type": "code",
      "metadata": {
        "colab": {
          "base_uri": "https://localhost:8080/",
          "height": 295
        },
        "id": "bVnEA5JSgwBr",
        "outputId": "87252633-2d39-4d69-fa21-ce17a80df777"
      },
      "source": [
        "plt.plot(theta , color = 'r')\n",
        "plt.xlabel(\"Epochs\")\n",
        "plt.ylabel('Cost')\n",
        "plt.title(\"Cost vs Epochs\")\n",
        "plt.show()"
      ],
      "execution_count": 37,
      "outputs": [
        {
          "output_type": "display_data",
          "data": {
            "image/png": "[encoded data removed]",
            "text/plain": [
              "<Figure size 432x288 with 1 Axes>"
            ]
          },
          "metadata": {
            "tags": [],
            "needs_background": "light"
          }
        }
      ]
    },
    {
      "cell_type": "code",
      "metadata": {
        "colab": {
          "base_uri": "https://localhost:8080/"
        },
        "id": "LJ050exVNQzt",
        "outputId": "a17ab0bd-ea54-4636-caaa-3fdd408273cf"
      },
      "source": [
        "print(f\"The cost after training is {J:.8f}.\")\n",
        "print(f\"The resulting vector of weights is {[round(t, 8) for t in np.squeeze(theta)]}\")"
      ],
      "execution_count": 38,
      "outputs": [
        {
          "output_type": "stream",
          "text": [
            "The cost after training is 0.00001401.\n",
            "The resulting vector of weights is [0.0505464, 1807.69728608, 0.0]\n"
          ],
          "name": "stdout"
        }
      ]
    },
    {
      "cell_type": "markdown",
      "metadata": {
        "id": "J14yz5xDMaG_"
      },
      "source": [
        "### Testing the Model "
      ]
    },
    {
      "cell_type": "code",
      "metadata": {
        "id": "OyYKfbxpNq9t"
      },
      "source": [
        "def predict_title(title , freqs , theta):\n",
        "  '''\n",
        "    Input: \n",
        "        tweet: a string\n",
        "        freqs: a dictionary corresponding to the frequencies of each tuple (word, label)\n",
        "        theta: (3,1) vector of weights\n",
        "    Output: \n",
        "        y_pred: the probability of a tweet being positive or negative\n",
        "    '''\n",
        "  x = extract_features(title , freqs)                                                           # extract the features of the tweet and store it into x\n",
        "  y_pred = np.divide( 1 , np.add( 1 , np.exp(-np.dot(x , theta))))                              # make the prediction using x and theta\n",
        "  \n",
        "  return y_pred            "
      ],
      "execution_count": 39,
      "outputs": []
    },
    {
      "cell_type": "code",
      "metadata": {
        "id": "6QjaxW-llowp"
      },
      "source": [
        "def test_logistic_regression(test_x , test_y , freqs , theta ):\n",
        "  \"\"\"\n",
        "    Input: \n",
        "        test_x: a list of tweets\n",
        "        test_y: (m, 1) vector with the corresponding labels for the list of tweets\n",
        "        freqs: a dictionary with the frequency of each pair (or tuple)\n",
        "        theta: weight vector of dimension (3, 1)\n",
        "    Output: \n",
        "        accuracy: (# of tweets classified correctly) / (total # of tweets)\n",
        "  \"\"\"\n",
        "  y_hat = []                                                                                   # the list for storing predictions\n",
        "  for title in test_x:\n",
        "    y_pred = predict_title(title , freqs , theta)                                              # get the label prediction for the tweet\n",
        "\n",
        "    if y_pred > 0.5:\n",
        "      y_hat.append(1)                                                                          # append 1.0 to the list\n",
        "    else:\n",
        "      y_hat.append(0)                                                                          # append 0 to the list\n",
        "  \n",
        "                                                                                               # With the above implementation, y_hat is a list, but test_y is (m,1) array\n",
        "                                                                                               # convert both to one-dimensional arrays in order to compare them using the '==' operator\n",
        "\n",
        "  accuracy = (y_hat ==  np.squeeze(test_y)).sum()/len(test_y)\n",
        "\n",
        "  return accuracy "
      ],
      "execution_count": 40,
      "outputs": []
    },
    {
      "cell_type": "code",
      "metadata": {
        "id": "W9a2y6TY4u4-"
      },
      "source": [
        "accuracy = test_logistic_regression(test_x, test_y, freqs, theta)\n"
      ],
      "execution_count": 41,
      "outputs": []
    },
    {
      "cell_type": "code",
      "metadata": {
        "id": "tBgNf_pI4vuS",
        "colab": {
          "base_uri": "https://localhost:8080/"
        },
        "outputId": "c49de62e-d89f-415e-ee09-14bdcf1120e5"
      },
      "source": [
        "print(f\"Logistic regression model's accuracy = {accuracy:.4f}\")"
      ],
      "execution_count": 42,
      "outputs": [
        {
          "output_type": "stream",
          "text": [
            "Logistic regression model's accuracy = 1.0000\n"
          ],
          "name": "stdout"
        }
      ]
    },
    {
      "cell_type": "markdown",
      "metadata": {
        "id": "mplaLn6EeWBg"
      },
      "source": [
        "### Predict unknow titles"
      ]
    },
    {
      "cell_type": "code",
      "metadata": {
        "id": "mFA22R3gT8ss",
        "colab": {
          "base_uri": "https://localhost:8080/"
        },
        "outputId": "d3d8e4ca-a700-4889-bb4a-b72bc26994e5"
      },
      "source": [
        "# Feel free to change the tweet below\n",
        "my_title = \"I Love Captain America\"\n",
        "print(process_tweet(my_title))\n",
        "y_hat = predict_title(my_title, freqs, theta)\n",
        "print(y_hat)\n",
        "if y_hat > 0.5:\n",
        "    print('Positive sentiment')\n",
        "else: \n",
        "    print('Negative sentiment')"
      ],
      "execution_count": 43,
      "outputs": [
        {
          "output_type": "stream",
          "text": [
            "['love', 'captain', 'america']\n",
            "[[1.]]\n",
            "Positive sentiment\n"
          ],
          "name": "stdout"
        }
      ]
    },
    {
      "cell_type": "code",
      "metadata": {
        "id": "udtkNhq6Xv2H"
      },
      "source": [
        ""
      ],
      "execution_count": 43,
      "outputs": []
    }
  ]
}